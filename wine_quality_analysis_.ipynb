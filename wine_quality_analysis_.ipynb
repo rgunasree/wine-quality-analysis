{
  "nbformat": 4,
  "nbformat_minor": 0,
  "metadata": {
    "colab": {
      "provenance": [],
      "authorship_tag": "ABX9TyMpyXmg6U01Icy+7yEuDune",
      "include_colab_link": true
    },
    "kernelspec": {
      "name": "python3",
      "display_name": "Python 3"
    },
    "language_info": {
      "name": "python"
    }
  },
  "cells": [
    {
      "cell_type": "markdown",
      "metadata": {
        "id": "view-in-github",
        "colab_type": "text"
      },
      "source": [
        "<a href=\"https://colab.research.google.com/github/rgunasree/wine-qualityy-analysis-/blob/main/wine_quality_analysis_.ipynb\" target=\"_parent\"><img src=\"https://colab.research.google.com/assets/colab-badge.svg\" alt=\"Open In Colab\"/></a>"
      ]
    },
    {
      "cell_type": "code",
      "source": [
        "# Import necessary libraries\n",
        "from sklearn.model_selection import train_test_split\n",
        "from sklearn.preprocessing import MinMaxScaler\n",
        "from sklearn.ensemble import RandomForestClassifier\n",
        "from sklearn.metrics import classification_report, mean_squared_error\n",
        "import numpy as np\n",
        "import pandas as pd\n",
        "import matplotlib.pyplot as plt\n",
        "import seaborn as sb"
      ],
      "metadata": {
        "id": "hOwyv6IduCCu"
      },
      "execution_count": 1,
      "outputs": []
    },
    {
      "cell_type": "code",
      "source": [
        "# Load the dataset\n",
        "df = pd.read_excel('/content/wine_quality.xlsx')"
      ],
      "metadata": {
        "id": "DmfVl-UYZGxk"
      },
      "execution_count": 2,
      "outputs": []
    },
    {
      "cell_type": "code",
      "source": [
        "# Explore the dataset\n",
        "print(df.head())\n",
        "print(df.info())\n",
        "print(df.describe())"
      ],
      "metadata": {
        "colab": {
          "base_uri": "https://localhost:8080/"
        },
        "id": "njX1A-BVZqoR",
        "outputId": "fef42f1e-6b20-43e6-8542-246c1464ea6e"
      },
      "execution_count": 3,
      "outputs": [
        {
          "output_type": "stream",
          "name": "stdout",
          "text": [
            "   fixed acidity  volatile acidity  citric acid  residual sugar  chlorides  \\\n",
            "0            7.4              0.70         0.00             1.9      0.076   \n",
            "1            7.8              0.88         0.00             2.6      0.098   \n",
            "2            7.8              0.76         0.04             2.3      0.092   \n",
            "3           11.2              0.28         0.56             1.9      0.075   \n",
            "4            7.4              0.70         0.00             1.9      0.076   \n",
            "\n",
            "   free sulfur dioxide  total sulfur dioxide  density    pH  sulphates  \\\n",
            "0                 11.0                  34.0   0.9978  3.51       0.56   \n",
            "1                 25.0                  67.0   0.9968  3.20       0.68   \n",
            "2                 15.0                  54.0   0.9970  3.26       0.65   \n",
            "3                 17.0                  60.0   0.9980  3.16       0.58   \n",
            "4                 11.0                  34.0   0.9978  3.51       0.56   \n",
            "\n",
            "   alcohol  quality  \n",
            "0      9.4      5.0  \n",
            "1      9.8      5.0  \n",
            "2      9.8      5.0  \n",
            "3      9.8      6.0  \n",
            "4      9.4      5.0  \n",
            "<class 'pandas.core.frame.DataFrame'>\n",
            "RangeIndex: 1599 entries, 0 to 1598\n",
            "Data columns (total 12 columns):\n",
            " #   Column                Non-Null Count  Dtype  \n",
            "---  ------                --------------  -----  \n",
            " 0   fixed acidity         1599 non-null   float64\n",
            " 1   volatile acidity      1599 non-null   float64\n",
            " 2   citric acid           1599 non-null   float64\n",
            " 3   residual sugar        1599 non-null   float64\n",
            " 4   chlorides             1599 non-null   float64\n",
            " 5   free sulfur dioxide   1599 non-null   float64\n",
            " 6   total sulfur dioxide  1598 non-null   float64\n",
            " 7   density               1599 non-null   float64\n",
            " 8   pH                    1598 non-null   float64\n",
            " 9   sulphates             1599 non-null   float64\n",
            " 10  alcohol               1599 non-null   float64\n",
            " 11  quality               1598 non-null   float64\n",
            "dtypes: float64(12)\n",
            "memory usage: 150.0 KB\n",
            "None\n",
            "       fixed acidity  volatile acidity  citric acid  residual sugar  \\\n",
            "count    1599.000000       1599.000000  1599.000000     1599.000000   \n",
            "mean        8.319637          0.527821     0.270976        2.538806   \n",
            "std         1.741096          0.179060     0.194801        1.409928   \n",
            "min         4.600000          0.120000     0.000000        0.900000   \n",
            "25%         7.100000          0.390000     0.090000        1.900000   \n",
            "50%         7.900000          0.520000     0.260000        2.200000   \n",
            "75%         9.200000          0.640000     0.420000        2.600000   \n",
            "max        15.900000          1.580000     1.000000       15.500000   \n",
            "\n",
            "         chlorides  free sulfur dioxide  total sulfur dioxide      density  \\\n",
            "count  1599.000000          1599.000000           1598.000000  1599.000000   \n",
            "mean      0.087467            15.874922             46.433041     0.996747   \n",
            "std       0.047065            10.460157             32.876249     0.001887   \n",
            "min       0.012000             1.000000              6.000000     0.990070   \n",
            "25%       0.070000             7.000000             22.000000     0.995600   \n",
            "50%       0.079000            14.000000             38.000000     0.996750   \n",
            "75%       0.090000            21.000000             62.000000     0.997835   \n",
            "max       0.611000            72.000000            289.000000     1.003690   \n",
            "\n",
            "                pH    sulphates      alcohol      quality  \n",
            "count  1598.000000  1599.000000  1599.000000  1598.000000  \n",
            "mean      3.498586     0.658149    10.422983     5.636421  \n",
            "std       0.080346     0.169507     1.065668     0.807665  \n",
            "min       2.740000     0.330000     8.400000     3.000000  \n",
            "25%       3.520000     0.550000     9.500000     5.000000  \n",
            "50%       3.520000     0.620000    10.200000     6.000000  \n",
            "75%       3.520000     0.730000    11.100000     6.000000  \n",
            "max       3.900000     2.000000    14.900000     8.000000  \n"
          ]
        }
      ]
    },
    {
      "cell_type": "code",
      "source": [
        "# Handle missing values\n",
        "df.fillna(df.mean(), inplace=True)"
      ],
      "metadata": {
        "id": "G3TBxxuJZ2Mw"
      },
      "execution_count": 4,
      "outputs": []
    },
    {
      "cell_type": "code",
      "source": [
        "# Normalize the data\n",
        "norm = MinMaxScaler()\n",
        "df[['fixed acidity', 'volatile acidity', 'citric acid', 'residual sugar', 'chlorides', 'free sulfur dioxide', 'total sulfur dioxide', 'density', 'pH', 'sulphates', 'alcohol']] = norm.fit_transform(df[['fixed acidity', 'volatile acidity', 'citric acid', 'residual sugar', 'chlorides', 'free sulfur dioxide', 'total sulfur dioxide', 'density', 'pH', 'sulphates', 'alcohol']])"
      ],
      "metadata": {
        "id": "bKjndv9raQQq"
      },
      "execution_count": 7,
      "outputs": []
    },
    {
      "cell_type": "code",
      "source": [
        "# Create a new column 'best quality' based on the quality column\n",
        "df['best quality'] = [1 if x > 5 else 0 for x in df.quality]"
      ],
      "metadata": {
        "id": "rpM2-wzTabia"
      },
      "execution_count": 8,
      "outputs": []
    },
    {
      "cell_type": "code",
      "source": [
        "# Encode categorical variables\n",
        "df.replace({'white': 1, 'red': 0}, inplace=True)"
      ],
      "metadata": {
        "id": "cFmhh60Nahfm"
      },
      "execution_count": 9,
      "outputs": []
    },
    {
      "cell_type": "code",
      "source": [
        "# Split the dataset into features and target variable\n",
        "features = df.drop(['quality', 'best quality'], axis=1)\n",
        "target = df['best quality']"
      ],
      "metadata": {
        "id": "1E_FpsZ5ao59"
      },
      "execution_count": 10,
      "outputs": []
    },
    {
      "cell_type": "code",
      "source": [
        "# Split the dataset into training and testing sets\n",
        "x_train, x_test, y_train, y_test = train_test_split(features, target, test_size=0.2, random_state=40)"
      ],
      "metadata": {
        "id": "SiIEU2Phalol"
      },
      "execution_count": 11,
      "outputs": []
    },
    {
      "cell_type": "code",
      "source": [
        "# Normalize the data\n",
        "norm = MinMaxScaler()\n",
        "x_train = norm.fit_transform(x_train)\n",
        "x_test = norm.transform(x_test)"
      ],
      "metadata": {
        "id": "O_3wVjWmaztX"
      },
      "execution_count": 12,
      "outputs": []
    },
    {
      "cell_type": "code",
      "source": [
        "# Train a RandomForestClassifier model\n",
        "rnd = RandomForestClassifier()\n",
        "fit_rnd = rnd.fit(x_train, y_train)"
      ],
      "metadata": {
        "id": "oy4rntpma1Ge"
      },
      "execution_count": 13,
      "outputs": []
    },
    {
      "cell_type": "code",
      "source": [
        "# Predict the target variable\n",
        "y_predict = rnd.predict(x_test)"
      ],
      "metadata": {
        "id": "kDAZfPsBa6w2"
      },
      "execution_count": 14,
      "outputs": []
    },
    {
      "cell_type": "code",
      "source": [
        "# Evaluate the model\n",
        "rnd_score = rnd.score(x_test, y_test)\n",
        "print('Score of the model: ', rnd_score)"
      ],
      "metadata": {
        "colab": {
          "base_uri": "https://localhost:8080/"
        },
        "id": "flZmDuXnbACD",
        "outputId": "64ce5fb4-8723-411f-99cf-e4d5feee70dd"
      },
      "execution_count": 15,
      "outputs": [
        {
          "output_type": "stream",
          "name": "stdout",
          "text": [
            "Score of the model:  0.828125\n"
          ]
        }
      ]
    },
    {
      "cell_type": "code",
      "source": [
        "# Calculate mean squared error and root mean squared error\n",
        "rnd_MSE = mean_squared_error(y_test, y_predict)\n",
        "rnd_RMSE = np.sqrt(rnd_MSE)\n",
        "print('Mean squared error: ', rnd_MSE)\n",
        "print('Root mean squared error: ', rnd_RMSE)"
      ],
      "metadata": {
        "colab": {
          "base_uri": "https://localhost:8080/"
        },
        "id": "M_gO4YVhbGr9",
        "outputId": "28130040-b3b2-411d-8195-943e0cb26e7d"
      },
      "execution_count": 17,
      "outputs": [
        {
          "output_type": "stream",
          "name": "stdout",
          "text": [
            "Mean squared error:  0.171875\n",
            "Root mean squared error:  0.414578098794425\n"
          ]
        }
      ]
    },
    {
      "cell_type": "code",
      "source": [
        "# Print classification report\n",
        "print(classification_report(y_test, y_predict))"
      ],
      "metadata": {
        "colab": {
          "base_uri": "https://localhost:8080/"
        },
        "id": "ofiNIU1AbKY2",
        "outputId": "7ce33165-5e97-40cd-963d-319778859358"
      },
      "execution_count": 18,
      "outputs": [
        {
          "output_type": "stream",
          "name": "stdout",
          "text": [
            "              precision    recall  f1-score   support\n",
            "\n",
            "           0       0.81      0.82      0.81       147\n",
            "           1       0.84      0.84      0.84       173\n",
            "\n",
            "    accuracy                           0.83       320\n",
            "   macro avg       0.83      0.83      0.83       320\n",
            "weighted avg       0.83      0.83      0.83       320\n",
            "\n"
          ]
        }
      ]
    },
    {
      "cell_type": "code",
      "source": [
        "# Create a heatmap to visualize highly correlated features\n",
        "sb.heatmap(df.corr() > 0.7, annot=True, cbar=False)\n",
        "plt.show()"
      ],
      "metadata": {
        "colab": {
          "base_uri": "https://localhost:8080/",
          "height": 542
        },
        "id": "orZ4SlWoaJq6",
        "outputId": "82c00ae2-8401-4cb0-ae7b-7347c1fca863"
      },
      "execution_count": 19,
      "outputs": [
        {
          "output_type": "display_data",
          "data": {
            "text/plain": [
              "<Figure size 640x480 with 1 Axes>"
            ],
            "image/png": "[encoded data removed]"
          },
          "metadata": {}
        }
      ]
    },
    {
      "cell_type": "code",
      "source": [
        "print(df.columns)\n",
        "\n",
        "# Remove highly correlated features\n",
        "df = df.drop('citric acid', axis=1)"
      ],
      "metadata": {
        "colab": {
          "base_uri": "https://localhost:8080/"
        },
        "id": "OxDr3M55bPHu",
        "outputId": "44cc5977-eca8-4628-d628-2b8af44f5f66"
      },
      "execution_count": 23,
      "outputs": [
        {
          "output_type": "stream",
          "name": "stdout",
          "text": [
            "Index(['fixed acidity', 'volatile acidity', 'citric acid', 'residual sugar',\n",
            "       'chlorides', 'free sulfur dioxide', 'density', 'pH', 'sulphates',\n",
            "       'alcohol', 'quality', 'best quality'],\n",
            "      dtype='object')\n"
          ]
        }
      ]
    }
  ]
}